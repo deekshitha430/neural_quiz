{
  "nbformat": 4,
  "nbformat_minor": 0,
  "metadata": {
    "colab": {
      "provenance": []
    },
    "kernelspec": {
      "name": "python3",
      "display_name": "Python 3"
    },
    "language_info": {
      "name": "python"
    }
  },
  "cells": [
    {
      "cell_type": "code",
      "execution_count": null,
      "metadata": {
        "colab": {
          "base_uri": "https://localhost:8080/"
        },
        "id": "Z9QIJy_bhF3X",
        "outputId": "4b4ce720-8e2d-4689-f015-a4933075cd5d"
      },
      "outputs": [
        {
          "output_type": "stream",
          "name": "stdout",
          "text": [
            "Downloading data from https://storage.googleapis.com/tensorflow/tf-keras-datasets/mnist.npz\n",
            "11490434/11490434 [==============================] - 0s 0us/step\n"
          ]
        }
      ],
      "source": [
        "# Load and preprocess the dataset (e.g., MNIST)\n",
        "from tensorflow.keras.datasets import mnist\n",
        "import numpy as np\n",
        "\n",
        "(x_train, _), (x_test, _) = mnist.load_data()\n",
        "\n",
        "# Normalize the data\n",
        "x_train = x_train.astype('float32') / 255.\n",
        "x_test = x_test.astype('float32') / 255.\n",
        "\n",
        "# Reshape the data to match the expected input shape of the model\n",
        "x_train = np.reshape(x_train, (len(x_train), 28, 28, 1))\n",
        "x_test = np.reshape(x_test, (len(x_test), 28, 28, 1))\n",
        "\n",
        "# Add random noise to the training data\n",
        "noise_factor = 0.2\n",
        "x_train_noisy = x_train + noise_factor * np.random.normal(loc=0.0, scale=1.0, size=x_train.shape)\n",
        "x_test_noisy = x_test + noise_factor * np.random.normal(loc=0.0, scale=1.0, size=x_test.shape)\n",
        "\n",
        "# Clip the values to ensure they are in the range [0, 1]\n",
        "x_train_noisy = np.clip(x_train_noisy, 0., 1.)\n",
        "x_test_noisy = np.clip(x_test_noisy, 0., 1.)"
      ]
    },
    {
      "cell_type": "code",
      "source": [
        "from tensorflow.keras.models import Model\n",
        "from tensorflow.keras.layers import Input, Conv2D, MaxPooling2D, UpSampling2D\n",
        "\n",
        "# Define the input shape\n",
        "input_shape = (28, 28, 1)\n",
        "\n",
        "# Encoder\n",
        "inputs = Input(shape=input_shape)\n",
        "conv1 = Conv2D(32, (3, 3), activation='relu', padding='same')(inputs)\n",
        "pool1 = MaxPooling2D((2, 2), padding='same')(conv1)\n",
        "conv2 = Conv2D(64, (3, 3), activation='relu', padding='same')(pool1)\n",
        "pool2 = MaxPooling2D((2, 2), padding='same')(conv2)\n",
        "encoded = Conv2D(128, (3, 3), activation='relu', padding='same')(pool2)\n",
        "\n",
        "# Decoder\n",
        "conv3 = Conv2D(64, (3, 3), activation='relu', padding='same')(encoded)\n",
        "up1 = UpSampling2D((2, 2))(conv3)\n",
        "conv4 = Conv2D(32, (3, 3), activation='relu', padding='same')(up1)\n",
        "up2 = UpSampling2D((2, 2))(conv4)\n",
        "decoded = Conv2D(1, (3, 3), activation='sigmoid', padding='same')(up2)\n",
        "\n",
        "# Define the autoencoder model\n",
        "autoencoder = Model(inputs, decoded)"
      ],
      "metadata": {
        "id": "dTEDJOtShSJT"
      },
      "execution_count": null,
      "outputs": []
    },
    {
      "cell_type": "code",
      "source": [
        "from tensorflow.keras.optimizers import Adam\n",
        "\n",
        "# Compile the model\n",
        "autoencoder.compile(optimizer=Adam(), loss='binary_crossentropy')\n",
        "\n",
        "# Train the model\n",
        "epochs = 5\n",
        "batch_size = 128\n",
        "autoencoder.fit(x_train_noisy, x_train,\n",
        "                epochs=epochs,\n",
        "                batch_size=batch_size,\n",
        "                shuffle=True,\n",
        "                validation_data=(x_test_noisy, x_test))"
      ],
      "metadata": {
        "colab": {
          "base_uri": "https://localhost:8080/"
        },
        "id": "0oj6uA5-hW4Q",
        "outputId": "53af76d1-ef35-4dd3-9370-c0ffc8e17f1e"
      },
      "execution_count": null,
      "outputs": [
        {
          "output_type": "stream",
          "name": "stdout",
          "text": [
            "Epoch 1/5\n",
            "469/469 [==============================] - 205s 432ms/step - loss: 0.1169 - val_loss: 0.0801\n",
            "Epoch 2/5\n",
            "469/469 [==============================] - 207s 441ms/step - loss: 0.0780 - val_loss: 0.0755\n",
            "Epoch 3/5\n",
            "469/469 [==============================] - 209s 445ms/step - loss: 0.0754 - val_loss: 0.0741\n",
            "Epoch 4/5\n",
            "469/469 [==============================] - 208s 442ms/step - loss: 0.0741 - val_loss: 0.0736\n",
            "Epoch 5/5\n",
            "469/469 [==============================] - 204s 435ms/step - loss: 0.0733 - val_loss: 0.0723\n"
          ]
        },
        {
          "output_type": "execute_result",
          "data": {
            "text/plain": [
              "<keras.src.callbacks.History at 0x7eae24771180>"
            ]
          },
          "metadata": {},
          "execution_count": 3
        }
      ]
    },
    {
      "cell_type": "code",
      "source": [
        "# Evaluate the model on the test set\n",
        "decoded_imgs = autoencoder.predict(x_test_noisy)\n",
        "\n",
        "# Calculate the mean squared error\n",
        "import tensorflow.keras.backend as K\n",
        "\n",
        "mse = K.mean(K.square(x_test - decoded_imgs))\n",
        "print('Mean Squared Error:', mse)\n",
        "\n",
        "# Visualize the reconstructed images\n",
        "import matplotlib.pyplot as plt\n",
        "\n",
        "n = 10\n",
        "plt.figure(figsize=(20, 4))\n",
        "for i in range(n):\n",
        "    # Display original\n",
        "    ax = plt.subplot(2, n, i + 1)\n",
        "    plt.imshow(x_test[i].reshape(28, 28))\n",
        "    plt.gray()\n",
        "    ax.get_xaxis().set_visible(False)\n",
        "    ax.get_yaxis().set_visible(False)\n",
        "\n",
        "    # Display reconstruction\n",
        "    ax = plt.subplot(2, n, i + 1 + n)\n",
        "    plt.imshow(decoded_imgs[i].reshape(28, 28))\n",
        "    plt.gray()\n",
        "    ax.get_xaxis().set_visible(False)\n",
        "    ax.get_yaxis().set_visible(False)\n",
        "\n",
        "plt.show()"
      ],
      "metadata": {
        "colab": {
          "base_uri": "https://localhost:8080/",
          "height": 317
        },
        "id": "5wkzfNAUmpJ6",
        "outputId": "c0f23022-a69c-46b7-a0bf-26aa55bfe18d"
      },
      "execution_count": 4,
      "outputs": [
        {
          "output_type": "stream",
          "name": "stdout",
          "text": [
            "313/313 [==============================] - 14s 45ms/step\n",
            "Mean Squared Error: tf.Tensor(0.0037382727, shape=(), dtype=float32)\n"
          ]
        },
        {
          "output_type": "display_data",
          "data": {
            "text/plain": [
              "<Figure size 2000x400 with 20 Axes>"
            ],
            "image/png": "[encoded data removed]"
          },
          "metadata": {}
        }
      ]
    },
    {
      "cell_type": "code",
      "source": [
        "from sklearn.model_selection import GridSearchCV\n",
        "import tensorflow as tf\n",
        "from tensorflow.keras.wrappers.scikit_learn import KerasRegressor\n",
        "\n",
        "# Define the input shape\n",
        "input_shape = (28, 28, 1)\n",
        "\n",
        "# Define the autoencoder model\n",
        "def create_autoencoder(learning_rate=0.001, loss='binary_crossentropy'):\n",
        "    inputs = tf.keras.layers.Input(shape=input_shape)\n",
        "    conv1 = tf.keras.layers.Conv2D(32, (3, 3), activation='relu', padding='same')(inputs)\n",
        "    pool1 = tf.keras.layers.MaxPooling2D((2, 2), padding='same')(conv1)\n",
        "    conv2 = tf.keras.layers.Conv2D(64, (3, 3), activation='relu', padding='same')(pool1)\n",
        "    pool2 = tf.keras.layers.MaxPooling2D((2, 2), padding='same')(conv2)\n",
        "    encoded = tf.keras.layers.Conv2D(128, (3, 3), activation='relu', padding='same')(pool2)\n",
        "\n",
        "    conv3 = tf.keras.layers.Conv2D(64, (3, 3), activation='relu', padding='same')(encoded)\n",
        "    up1 = tf.keras.layers.UpSampling2D((2, 2))(conv3)\n",
        "    conv4 = tf.keras.layers.Conv2D(32, (3, 3), activation='relu', padding='same')(up1)\n",
        "    up2 = tf.keras.layers.UpSampling2D((2, 2))(conv4)\n",
        "    decoded = tf.keras.layers.Conv2D(1, (3, 3), activation='sigmoid', padding='same')(up2)\n",
        "\n",
        "    autoencoder = tf.keras.models.Model(inputs, decoded)\n",
        "    optimizer = tf.keras.optimizers.Adam(learning_rate=learning_rate)\n",
        "    autoencoder.compile(optimizer=optimizer, loss=loss)\n",
        "    return autoencoder\n",
        "\n",
        "# Create a KerasRegressor\n",
        "autoencoder_reg = KerasRegressor(build_fn=create_autoencoder, verbose=0)\n",
        "\n",
        "# Define the hyperparameters to tune\n",
        "learning_rates = [0.001, 0.01, 0.1]\n",
        "losses = ['binary_crossentropy', 'mean_squared_error']\n",
        "param_grid = dict(learning_rate=learning_rates, loss=losses)\n",
        "\n",
        "# Perform grid search\n",
        "grid_search = GridSearchCV(estimator=autoencoder_reg, param_grid=param_grid, n_jobs=-1, cv=3)\n",
        "grid_search = grid_search.fit(x_train_noisy.reshape(len(x_train_noisy), -1), x_train.reshape(len(x_train), -1))\n",
        "\n",
        "# Print the best hyperparameters\n",
        "print(\"Best hyperparameters: \", grid_search.best_params_)\n",
        "\n",
        "# Get the best model\n",
        "best_model = grid_search.best_estimator_.model\n",
        "\n",
        "# Evaluate the best model on the test set\n",
        "decoded_imgs = best_model.predict(x_test_noisy.reshape(len(x_test_noisy), -1)).reshape(len(x_test_noisy), 28, 28, 1)\n",
        "\n",
        "# Calculate the mean squared error\n",
        "import tensorflow.keras.backend as K\n",
        "\n",
        "mse = K.mean(K.square(x_test - decoded_imgs))\n",
        "print('Mean Squared Error:', mse)\n",
        "\n",
        "# Visualize the reconstructed images\n",
        "import matplotlib.pyplot as plt\n",
        "\n",
        "n = 10\n",
        "plt.figure(figsize=(20, 4))\n",
        "for i in range(n):\n",
        "    # Display original\n",
        "    ax = plt.subplot(2, n, i + 1)\n",
        "    plt.imshow(x_test[i].reshape(28, 28))\n",
        "    plt.gray()\n",
        "    ax.get_xaxis().set_visible(False)\n",
        "    ax.get_yaxis().set_visible(False)\n",
        "\n",
        "    # Display reconstruction\n",
        "    ax = plt.subplot(2, n, i + 1 + n)\n",
        "    plt.imshow(decoded_imgs[i].reshape(28, 28))\n",
        "    plt.gray()\n",
        "    ax.get_xaxis().set_visible(False)\n",
        "    ax.get_yaxis().set_visible(False)\n",
        "\n",
        "plt.show()"
      ],
      "metadata": {
        "colab": {
          "base_uri": "https://localhost:8080/",
          "height": 397
        },
        "id": "c1qxnxbnmwf7",
        "outputId": "54932f0e-3792-47b2-a26b-273eac9f7c31"
      },
      "execution_count": 7,
      "outputs": [
        {
          "output_type": "error",
          "ename": "ModuleNotFoundError",
          "evalue": "No module named 'tensorflow.keras.wrappers'",
          "traceback": [
            "\u001b[0;31m---------------------------------------------------------------------------\u001b[0m",
            "\u001b[0;31mModuleNotFoundError\u001b[0m                       Traceback (most recent call last)",
            "\u001b[0;32m<ipython-input-7-a54212967aaa>\u001b[0m in \u001b[0;36m<cell line: 3>\u001b[0;34m()\u001b[0m\n\u001b[1;32m      1\u001b[0m \u001b[0;32mfrom\u001b[0m \u001b[0msklearn\u001b[0m\u001b[0;34m.\u001b[0m\u001b[0mmodel_selection\u001b[0m \u001b[0;32mimport\u001b[0m \u001b[0mGridSearchCV\u001b[0m\u001b[0;34m\u001b[0m\u001b[0;34m\u001b[0m\u001b[0m\n\u001b[1;32m      2\u001b[0m \u001b[0;32mimport\u001b[0m \u001b[0mtensorflow\u001b[0m \u001b[0;32mas\u001b[0m \u001b[0mtf\u001b[0m\u001b[0;34m\u001b[0m\u001b[0;34m\u001b[0m\u001b[0m\n\u001b[0;32m----> 3\u001b[0;31m \u001b[0;32mfrom\u001b[0m \u001b[0mtensorflow\u001b[0m\u001b[0;34m.\u001b[0m\u001b[0mkeras\u001b[0m\u001b[0;34m.\u001b[0m\u001b[0mwrappers\u001b[0m\u001b[0;34m.\u001b[0m\u001b[0mscikit_learn\u001b[0m \u001b[0;32mimport\u001b[0m \u001b[0mKerasRegressor\u001b[0m\u001b[0;34m\u001b[0m\u001b[0;34m\u001b[0m\u001b[0m\n\u001b[0m\u001b[1;32m      4\u001b[0m \u001b[0;34m\u001b[0m\u001b[0m\n\u001b[1;32m      5\u001b[0m \u001b[0;31m# Define the input shape\u001b[0m\u001b[0;34m\u001b[0m\u001b[0;34m\u001b[0m\u001b[0m\n",
            "\u001b[0;31mModuleNotFoundError\u001b[0m: No module named 'tensorflow.keras.wrappers'",
            "",
            "\u001b[0;31m---------------------------------------------------------------------------\u001b[0;32m\nNOTE: If your import is failing due to a missing package, you can\nmanually install dependencies using either !pip or !apt.\n\nTo view examples of installing some common dependencies, click the\n\"Open Examples\" button below.\n\u001b[0;31m---------------------------------------------------------------------------\u001b[0m\n"
          ],
          "errorDetails": {
            "actions": [
              {
                "action": "open_url",
                "actionText": "Open Examples",
                "url": "/notebooks/snippets/importing_libraries.ipynb"
              }
            ]
          }
        }
      ]
    }
  ]
}